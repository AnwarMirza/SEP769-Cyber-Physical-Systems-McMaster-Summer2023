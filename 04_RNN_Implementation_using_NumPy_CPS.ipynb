{
  "cells": [
    {
      "cell_type": "markdown",
      "metadata": {
        "id": "view-in-github",
        "colab_type": "text"
      },
      "source": [
        "<a href=\"https://colab.research.google.com/github/AnwarMirza/SEP769-Cyber-Physical-Systems-McMaster-Summer2023/blob/main/04_RNN_Implementation_using_NumPy_CPS.ipynb\" target=\"_parent\"><img src=\"https://colab.research.google.com/assets/colab-badge.svg\" alt=\"Open In Colab\"/></a>"
      ]
    },
    {
      "cell_type": "markdown",
      "metadata": {
        "id": "wiK3V-cELDCf"
      },
      "source": [
        "# RNN Implementation using NumPy\n",
        "\n",
        "- Sequence input, Char-level, Batch training, Python 3\n",
        "\n",
        "- You can train RNNs using different vector representations. (Try \"glove\" or \"word2vec\" to train the sequence of words instead of the \"One-hot-vector\")\n",
        "\n",
        "- This is a slightly modified version of the original code(Karpathy).\n",
        "\n",
        "URL\n",
        "\n",
        "-> https://github.com/JY-Yoon\n",
        "\n",
        "-> Original code(Karpathy) : https://gist.github.com/karpathy/d4dee566867f8291f086\n",
        "\n"
      ]
    },
    {
      "cell_type": "code",
      "execution_count": null,
      "metadata": {
        "id": "8PRYGzM1LDCn"
      },
      "outputs": [],
      "source": [
        "import numpy as np"
      ]
    },
    {
      "cell_type": "code",
      "execution_count": null,
      "metadata": {
        "colab": {
          "base_uri": "https://localhost:8080/"
        },
        "id": "1dQklrxgLDCp",
        "outputId": "332ef7fc-9e8f-4d95-e69c-2ce2454e9d41"
      },
      "outputs": [
        {
          "output_type": "stream",
          "name": "stdout",
          "text": [
            "unique characters :  27\n",
            "txt_data_size :  81\n"
          ]
        }
      ],
      "source": [
        "# load text data\n",
        "\n",
        "txt_data = \"abcdefghijklmnopqrstuvwxyz abcdefghijklmnopqrstuvwxyz abcdefghijklmnopqrstuvwxyz \" # input data\n",
        "# txt_data = \"I had neither kith nor kin in England, and was therefore as free as air.\"\n",
        "# txt_data = open('input.txt', 'r').read() # test external files\n",
        "\n",
        "chars = list(set(txt_data)) # split and remove duplicate characters. convert to list.\n",
        "\n",
        "num_chars = len(chars) # the number of unique characters\n",
        "txt_data_size = len(txt_data)\n",
        "\n",
        "print(\"unique characters : \", num_chars) # You can see the number of unique characters in your input data.\n",
        "print(\"txt_data_size : \", txt_data_size)"
      ]
    },
    {
      "cell_type": "markdown",
      "metadata": {
        "id": "WUDwvNF2LDCv"
      },
      "source": [
        "# One hot encoding"
      ]
    },
    {
      "cell_type": "code",
      "execution_count": null,
      "metadata": {
        "colab": {
          "base_uri": "https://localhost:8080/"
        },
        "id": "gceJWR1wLDCw",
        "outputId": "f65d276f-27fa-45c3-dd4f-ea15160cbd24"
      },
      "outputs": [
        {
          "output_type": "stream",
          "name": "stdout",
          "text": [
            "{'t': 0, 'u': 1, 'h': 2, 'k': 3, 'g': 4, 'y': 5, 'q': 6, 'x': 7, 'j': 8, 'w': 9, 'b': 10, 'p': 11, 'd': 12, 'o': 13, 'z': 14, ' ': 15, 'f': 16, 'e': 17, 'n': 18, 'l': 19, 'c': 20, 'r': 21, 'a': 22, 's': 23, 'v': 24, 'm': 25, 'i': 26}\n",
            "----------------------------------------------------\n",
            "{0: 't', 1: 'u', 2: 'h', 3: 'k', 4: 'g', 5: 'y', 6: 'q', 7: 'x', 8: 'j', 9: 'w', 10: 'b', 11: 'p', 12: 'd', 13: 'o', 14: 'z', 15: ' ', 16: 'f', 17: 'e', 18: 'n', 19: 'l', 20: 'c', 21: 'r', 22: 'a', 23: 's', 24: 'v', 25: 'm', 26: 'i'}\n",
            "----------------------------------------------------\n",
            "[22, 10, 20, 12, 17, 16, 4, 2, 26, 8, 3, 19, 25, 18, 13, 11, 6, 21, 23, 0, 1, 24, 9, 7, 5, 14, 15, 22, 10, 20, 12, 17, 16, 4, 2, 26, 8, 3, 19, 25, 18, 13, 11, 6, 21, 23, 0, 1, 24, 9, 7, 5, 14, 15, 22, 10, 20, 12, 17, 16, 4, 2, 26, 8, 3, 19, 25, 18, 13, 11, 6, 21, 23, 0, 1, 24, 9, 7, 5, 14, 15]\n",
            "----------------------------------------------------\n",
            "data length :  81\n"
          ]
        }
      ],
      "source": [
        "# one hot encode\n",
        "char_to_int = dict((c, i) for i, c in enumerate(chars)) # \"enumerate\" retruns index and value. Convert it to dictionary\n",
        "int_to_char = dict((i, c) for i, c in enumerate(chars))\n",
        "print(char_to_int)\n",
        "print(\"----------------------------------------------------\")\n",
        "print(int_to_char)\n",
        "print(\"----------------------------------------------------\")\n",
        "# integer encode input data\n",
        "integer_encoded = [char_to_int[i] for i in txt_data] # \"integer_encoded\" is a list which has a sequence converted from an original data to integers.\n",
        "print(integer_encoded)\n",
        "print(\"----------------------------------------------------\")\n",
        "print(\"data length : \", len(integer_encoded))"
      ]
    },
    {
      "cell_type": "code",
      "execution_count": null,
      "metadata": {
        "colab": {
          "base_uri": "https://localhost:8080/"
        },
        "id": "o40GEOv2LDCz",
        "outputId": "d13ac5f2-d7c1-4edd-cd55-52517ee25296"
      },
      "outputs": [
        {
          "output_type": "stream",
          "name": "stdout",
          "text": [
            "(81, 27)\n",
            "[[0 0 0 ... 0 0 0]\n",
            " [0 0 0 ... 0 0 0]\n",
            " [0 0 0 ... 0 0 0]\n",
            " ...\n",
            " [0 0 0 ... 0 0 0]\n",
            " [0 0 0 ... 0 0 0]\n",
            " [0 0 0 ... 0 0 0]]\n",
            "a\n"
          ]
        }
      ],
      "source": [
        "# Not actually used.\n",
        "\n",
        "onehot_encoded = []\n",
        "\n",
        "for ix in integer_encoded: # ix is an index mapped to a unique character.\n",
        "    letter = [0 for _ in range(len(chars))] # A list len is equal to the number of unique characters and whose elements are all zero.\n",
        "    letter[ix] = 1 # 'letter' is a one-hot vector.\n",
        "    onehot_encoded.append(letter) # Add a 1d list(a vector for one character).\n",
        "onehot_encoded = np.array(onehot_encoded) # list to np-array\n",
        "\n",
        "print(onehot_encoded.shape)     #  = (len(data),len(chars))\n",
        "print(onehot_encoded)\n",
        "\n",
        "# invert encoding\n",
        "inverted = int_to_char[np.argmax(onehot_encoded[0])] # \"argmax\" returns the index of the largest value.\n",
        "print(inverted)\n"
      ]
    },
    {
      "cell_type": "markdown",
      "metadata": {
        "id": "TtAsJmHVLDC0"
      },
      "source": [
        "# Initialization"
      ]
    },
    {
      "cell_type": "code",
      "execution_count": null,
      "metadata": {
        "id": "8KeTLRbGLDC1"
      },
      "outputs": [],
      "source": [
        "# hyperparameters\n",
        "\n",
        "iteration = 5000\n",
        "sequence_length = 10\n",
        "batch_size = round((txt_data_size /sequence_length)+0.5) # = math.ceil\n",
        "hidden_size = 100  # size of hidden layer of neurons.\n",
        "learning_rate = 1e-1\n",
        "\n",
        "\n",
        "# model parameters\n",
        "\n",
        "W_xh = np.random.randn(hidden_size, num_chars)*0.01     # weight input -> hidden.\n",
        "W_hh = np.random.randn(hidden_size, hidden_size)*0.01   # weight hidden -> hidden\n",
        "W_hy = np.random.randn(num_chars, hidden_size)*0.01     # weight hidden -> output\n",
        "\n",
        "b_h = np.zeros((hidden_size, 1)) # hidden bias\n",
        "b_y = np.zeros((num_chars, 1)) # output bias\n",
        "\n",
        "h_prev = np.zeros((hidden_size,1)) # h_(t-1)"
      ]
    },
    {
      "cell_type": "markdown",
      "metadata": {
        "id": "RxzafCNZLDC1"
      },
      "source": [
        "# Forward propagation"
      ]
    },
    {
      "cell_type": "code",
      "execution_count": null,
      "metadata": {
        "id": "e2pZX_zLLDC2"
      },
      "outputs": [],
      "source": [
        "def forwardprop(inputs, targets, h_prev):\n",
        "\n",
        "    # Since the RNN receives the sequence, the weights are not updated during one sequence.\n",
        "    xs, hs, ys, ps = {}, {}, {}, {} # dictionary\n",
        "    hs[-1] = np.copy(h_prev) # Copy previous hidden state vector to -1 key value.\n",
        "    loss = 0 # loss initialization\n",
        "\n",
        "    for t in range(len(inputs)): # t is a \"time step\" and is used as a key(dic).\n",
        "\n",
        "        xs[t] = np.zeros((num_chars,1))\n",
        "        xs[t][inputs[t]] = 1\n",
        "        hs[t] = np.tanh(np.dot(W_xh, xs[t]) + np.dot(W_hh, hs[t-1]) + b_h) # hidden state.\n",
        "        ys[t] = np.dot(W_hy, hs[t]) + b_y # unnormalized log probabilities for next chars\n",
        "        ps[t] = np.exp(ys[t]) / np.sum(np.exp(ys[t])) # probabilities for next chars.\n",
        "        # Softmax. -> The sum of probabilities is 1 even without the exp() function, but all of the elements are positive through the exp() function.\n",
        "\n",
        "        loss += -np.log(ps[t][targets[t],0]) # softmax (cross-entropy loss). Efficient and simple code\n",
        "\n",
        "#         y_class = np.zeros((num_chars, 1))\n",
        "#         y_class[targets[t]] =1\n",
        "#         loss += np.sum(y_class*(-np.log(ps[t]))) # softmax (cross-entropy loss)\n",
        "\n",
        "    return loss, ps, hs, xs"
      ]
    },
    {
      "cell_type": "markdown",
      "metadata": {
        "id": "maSU_7cfLDC3"
      },
      "source": [
        "# Backward propagation"
      ]
    },
    {
      "cell_type": "code",
      "execution_count": null,
      "metadata": {
        "id": "KYC2XFhKLDC4"
      },
      "outputs": [],
      "source": [
        "def backprop(ps, inputs, hs, xs):\n",
        "\n",
        "    dWxh, dWhh, dWhy = np.zeros_like(W_xh), np.zeros_like(W_hh), np.zeros_like(W_hy) # make all zero matrices.\n",
        "    dbh, dby = np.zeros_like(b_h), np.zeros_like(b_y)\n",
        "    dhnext = np.zeros_like(hs[0]) # (hidden_size,1)\n",
        "\n",
        "    # reversed\n",
        "    for t in reversed(range(len(inputs))):\n",
        "        dy = np.copy(ps[t]) # shape (num_chars,1).  \"dy\" means \"dloss/dy\"\n",
        "        dy[targets[t]] -= 1 # backprop into y. After taking the soft max in the input vector, subtract 1 from the value of the element corresponding to the correct label.\n",
        "        dWhy += np.dot(dy, hs[t].T)\n",
        "        dby += dy\n",
        "        dh = np.dot(W_hy.T, dy) + dhnext # backprop into h.\n",
        "        dhraw = (1 - hs[t] * hs[t]) * dh # backprop through tanh nonlinearity #tanh'(x) = 1-tanh^2(x)\n",
        "        dbh += dhraw\n",
        "        dWxh += np.dot(dhraw, xs[t].T)\n",
        "        dWhh += np.dot(dhraw, hs[t-1].T)\n",
        "        dhnext = np.dot(W_hh.T, dhraw)\n",
        "    for dparam in [dWxh, dWhh, dWhy, dbh, dby]:\n",
        "        np.clip(dparam, -5, 5, out=dparam) # clip to mitigate exploding gradients.\n",
        "\n",
        "    return dWxh, dWhh, dWhy, dbh, dby"
      ]
    },
    {
      "cell_type": "markdown",
      "metadata": {
        "id": "vwFKAnFPLDC5"
      },
      "source": [
        "# Training"
      ]
    },
    {
      "cell_type": "code",
      "execution_count": null,
      "metadata": {
        "colab": {
          "base_uri": "https://localhost:8080/"
        },
        "id": "EpDB6er5LDC5",
        "outputId": "25c6c8a9-04d3-4e3a-e86b-b43100e6cee3"
      },
      "outputs": [
        {
          "output_type": "stream",
          "name": "stdout",
          "text": [
            "iter 0, loss: 2.795307\n",
            "iter 100, loss: 0.014536\n",
            "iter 200, loss: 0.006334\n",
            "iter 300, loss: 0.003968\n",
            "iter 400, loss: 0.002879\n",
            "iter 500, loss: 0.002255\n",
            "iter 600, loss: 0.001845\n",
            "iter 700, loss: 0.001556\n",
            "iter 800, loss: 0.001341\n",
            "iter 900, loss: 0.001176\n",
            "iter 1000, loss: 0.001047\n",
            "iter 1100, loss: 0.000942\n",
            "iter 1200, loss: 0.000856\n",
            "iter 1300, loss: 0.000784\n",
            "iter 1400, loss: 0.000723\n",
            "iter 1500, loss: 0.000670\n",
            "iter 1600, loss: 0.000625\n",
            "iter 1700, loss: 0.000585\n",
            "iter 1800, loss: 0.000549\n",
            "iter 1900, loss: 0.000518\n",
            "iter 2000, loss: 0.000490\n",
            "iter 2100, loss: 0.000465\n",
            "iter 2200, loss: 0.000442\n",
            "iter 2300, loss: 0.000421\n",
            "iter 2400, loss: 0.000402\n",
            "iter 2500, loss: 0.000385\n",
            "iter 2600, loss: 0.000369\n",
            "iter 2700, loss: 0.000354\n",
            "iter 2800, loss: 0.000340\n",
            "iter 2900, loss: 0.000328\n",
            "iter 3000, loss: 0.000316\n",
            "iter 3100, loss: 0.000305\n",
            "iter 3200, loss: 0.000295\n",
            "iter 3300, loss: 0.000285\n",
            "iter 3400, loss: 0.000276\n",
            "iter 3500, loss: 0.000267\n",
            "iter 3600, loss: 0.000259\n",
            "iter 3700, loss: 0.000252\n",
            "iter 3800, loss: 0.000244\n",
            "iter 3900, loss: 0.000238\n",
            "iter 4000, loss: 0.000231\n",
            "iter 4100, loss: 0.000225\n",
            "iter 4200, loss: 0.000219\n",
            "iter 4300, loss: 0.000214\n",
            "iter 4400, loss: 0.000208\n",
            "iter 4500, loss: 0.000203\n",
            "iter 4600, loss: 0.000198\n",
            "iter 4700, loss: 0.000194\n",
            "iter 4800, loss: 0.000189\n",
            "iter 4900, loss: 0.000185\n"
          ]
        }
      ],
      "source": [
        "data_pointer = 0\n",
        "\n",
        "# memory variables for Adagrad\n",
        "mWxh, mWhh, mWhy = np.zeros_like(W_xh), np.zeros_like(W_hh), np.zeros_like(W_hy)\n",
        "mbh, mby = np.zeros_like(b_h), np.zeros_like(b_y)\n",
        "\n",
        "\n",
        "for i in range(iteration):\n",
        "    h_prev = np.zeros((hidden_size,1)) # reset RNN memory\n",
        "    data_pointer = 0 # go from start of data\n",
        "\n",
        "    for b in range(batch_size):\n",
        "\n",
        "        inputs = [char_to_int[ch] for ch in txt_data[data_pointer:data_pointer+sequence_length]]\n",
        "        targets = [char_to_int[ch] for ch in txt_data[data_pointer+1:data_pointer+sequence_length+1]] # t+1\n",
        "\n",
        "        if (data_pointer+sequence_length+1 >= len(txt_data) and b == batch_size-1): # processing of the last part of the input data.\n",
        "#             targets.append(char_to_int[txt_data[0]])   # When the data doesn't fit, add the first char to the back.\n",
        "            targets.append(char_to_int[\" \"])   # When the data doesn't fit, add space(\" \") to the back.\n",
        "\n",
        "\n",
        "        # forward\n",
        "        loss, ps, hs, xs = forwardprop(inputs, targets, h_prev)\n",
        "#         print(loss)\n",
        "\n",
        "        # backward\n",
        "        dWxh, dWhh, dWhy, dbh, dby = backprop(ps, inputs, hs, xs)\n",
        "\n",
        "\n",
        "    # perform parameter update with Adagrad\n",
        "        for param, dparam, mem in zip([W_xh, W_hh, W_hy, b_h, b_y],\n",
        "                                    [dWxh, dWhh, dWhy, dbh, dby],\n",
        "                                    [mWxh, mWhh, mWhy, mbh, mby]):\n",
        "            mem += dparam * dparam # elementwise\n",
        "            param += -learning_rate * dparam / np.sqrt(mem + 1e-8) # adagrad update\n",
        "\n",
        "        data_pointer += sequence_length # move data pointer\n",
        "\n",
        "    if i % 100 == 0:\n",
        "        print ('iter %d, loss: %f' % (i, loss)) # print progress\n",
        "\n"
      ]
    },
    {
      "cell_type": "markdown",
      "metadata": {
        "id": "lEHk9ZJgLDC7"
      },
      "source": [
        "# Prediction"
      ]
    },
    {
      "cell_type": "code",
      "execution_count": null,
      "metadata": {
        "id": "2OBvuEZqLDC8"
      },
      "outputs": [],
      "source": [
        "def predict(test_char, length):\n",
        "    x = np.zeros((num_chars, 1))\n",
        "    x[char_to_int[test_char]] = 1\n",
        "    ixes = []\n",
        "    h = np.zeros((hidden_size,1))\n",
        "\n",
        "    for t in range(length):\n",
        "        h = np.tanh(np.dot(W_xh, x) + np.dot(W_hh, h) + b_h)\n",
        "        y = np.dot(W_hy, h) + b_y\n",
        "        p = np.exp(y) / np.sum(np.exp(y))\n",
        "        ix = np.random.choice(range(num_chars), p=p.ravel()) # ravel -> rank0\n",
        "        # \"ix\" is a list of indexes selected according to the soft max probability.\n",
        "        x = np.zeros((num_chars, 1)) # init\n",
        "        x[ix] = 1\n",
        "        ixes.append(ix) # list\n",
        "    txt = ''.join(int_to_char[i] for i in ixes)\n",
        "    print ('----\\n %s \\n----' % (txt, ))"
      ]
    },
    {
      "cell_type": "code",
      "execution_count": null,
      "metadata": {
        "colab": {
          "base_uri": "https://localhost:8080/"
        },
        "id": "1deWoO5GLDC8",
        "outputId": "17dd684a-066f-4328-a68b-7555ddd54eea"
      },
      "outputs": [
        {
          "output_type": "stream",
          "name": "stdout",
          "text": [
            "----\n",
            " bcdefghijklmnopqrstuvwxyz abcd \n",
            "----\n"
          ]
        }
      ],
      "source": [
        "predict('a',30) # (char, len of output)"
      ]
    },
    {
      "cell_type": "code",
      "execution_count": null,
      "metadata": {
        "colab": {
          "base_uri": "https://localhost:8080/"
        },
        "id": "Kcn8jtEcLDC-",
        "outputId": "18338e5c-f41c-4f03-be2d-899fd50c1a07"
      },
      "outputs": [
        {
          "output_type": "stream",
          "name": "stdout",
          "text": [
            "----\n",
            " cdefghijklmnopqrstuvwxyz abcde \n",
            "----\n"
          ]
        }
      ],
      "source": [
        "predict('b',30)"
      ]
    },
    {
      "cell_type": "code",
      "source": [
        "predict('c',30)"
      ],
      "metadata": {
        "colab": {
          "base_uri": "https://localhost:8080/"
        },
        "id": "Zzx_axWM7AZL",
        "outputId": "8c9e8d75-6bee-4fac-c92d-7b429368ee0e"
      },
      "execution_count": null,
      "outputs": [
        {
          "output_type": "stream",
          "name": "stdout",
          "text": [
            "----\n",
            " defghijklmnopqrstuvwxyz abcdef \n",
            "----\n"
          ]
        }
      ]
    }
  ],
  "metadata": {
    "kernelspec": {
      "display_name": "Python 3",
      "name": "python3"
    },
    "language_info": {
      "codemirror_mode": {
        "name": "ipython",
        "version": 3
      },
      "file_extension": ".py",
      "mimetype": "text/x-python",
      "name": "python",
      "nbconvert_exporter": "python",
      "pygments_lexer": "ipython3",
      "version": "3.6.5"
    },
    "colab": {
      "provenance": [],
      "gpuType": "T4",
      "include_colab_link": true
    },
    "accelerator": "GPU"
  },
  "nbformat": 4,
  "nbformat_minor": 0
}